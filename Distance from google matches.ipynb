{
 "cells": [
  {
   "cell_type": "markdown",
   "metadata": {},
   "source": [
    "In my survey, I provided a short text box on a Mechanical Turk survey. Most responders did not write multiple paragraphs... so a good first pass is simply to check for newlines (these are indicated by \"/\" in my own system) as well as funny unicode characters that folks are unlikely to have typed.\n",
    "\n",
    "You can download google results for all of our texts using the script `get_goog.py`, which should be in the same directory as this."
   ]
  },
  {
   "cell_type": "code",
   "execution_count": null,
   "metadata": {
    "collapsed": false
   },
   "outputs": [],
   "source": [
    "# This allows us to read a specific encoding\n",
    "from codecs import open\n",
    "import json\n",
    "\n",
    "# If you're doing science, you probably have pandas installed. It's good and *fast* for reading CSVs.\n",
    "import pandas\n",
    "\n",
    "# These are two fairly similar metrics (or families of metrics), but let's see how they compare\n",
    "from nltk.metrics import edit_distance\n",
    "from fuzzywuzzy import fuzz\n",
    "\n",
    "class PlagiDistance:\n",
    "    def __init__(self, df):\n",
    "        '''Compute the distance from the top google result for each cell in df\n",
    "\n",
    "        Index and column names are used for guessing the filename in\n",
    "        google_searches\n",
    "        '''\n",
    "        self.fuzz_ratio = pd.DataFrame(np.nan, index=df.index, columns=df.columns)\n",
    "        self.fuzz_partial = pd.DataFrame(np.nan, index=df.index, columns=df.columns)\n",
    "        self.edit = pd.DataFrame(np.nan, index=df.index, columns=df.columns)\n",
    "\n",
    "        for colname, txts in df.iteritems():\n",
    "            for id, txt in txts.iteritems():\n",
    "                self.get_dists(colname, id, txt)\n",
    "\n",
    "    def get_dists(self, colname, id, txt):\n",
    "        '''Get the json file and compute dists'''\n",
    "        fname = 'google_searches/%s_%s.json' % (id, 'know2_pre')\n",
    "\n",
    "        with open(fname, 'r', 'utf8') as json_file:\n",
    "            json_data = json.load(json_file)\n",
    "\n",
    "        # This is probably fine - a more careful approach would get rid of\n",
    "        # ellipses, but this is probably \"good enough\"\n",
    "\n",
    "        top_match = json_data['items'][0]['snippet']\n",
    "        q_string = ' '.join(txt.split()[:32])\n",
    "\n",
    "        self.fuzz_ratio.loc[id, colname] = fuzz.ratio(q_string, top_match)\n",
    "        self.fuzz_partial.loc[id, colname] = fuzz.partial_ratio(q_string, top_match)\n",
    "        self.edit.loc[id, colname] = edit_distance(q_string, top_match)"
   ]
  },
  {
   "cell_type": "code",
   "execution_count": null,
   "metadata": {
    "collapsed": false
   },
   "outputs": [],
   "source": [
    "# An example of how you might grab your text columns\n",
    "know_cols = [cn for cn in some_df.columns if cn.startswith('text')]\n",
    "dists = PlagiDistance(come_df[know_cols])"
   ]
  },
  {
   "cell_type": "code",
   "execution_count": null,
   "metadata": {
    "collapsed": false
   },
   "outputs": [],
   "source": [
    "# Grab our 10 worst (er, best) matches\n",
    "dists.sort(columns=0).iloc[:10]"
   ]
  },
  {
   "cell_type": "code",
   "execution_count": null,
   "metadata": {
    "collapsed": false
   },
   "outputs": [],
   "source": [
    "# This seems to pick out almost exactly the same features as edit_distance\n",
    "dists.sort(columns=1, ascending=False).iloc[:10]"
   ]
  },
  {
   "cell_type": "code",
   "execution_count": null,
   "metadata": {
    "collapsed": false
   },
   "outputs": [],
   "source": [
    "# In my case, edit_distance and fuzz.ratio are highly correlated\n",
    "dists.corr()"
   ]
  },
  {
   "cell_type": "code",
   "execution_count": null,
   "metadata": {
    "collapsed": false
   },
   "outputs": [],
   "source": [
    "dists.sort(columns=2, ascending=False).iloc[:10]"
   ]
  },
  {
   "cell_type": "markdown",
   "metadata": {},
   "source": [
    "For my data, it seems that the standard fuzz.ratio and edit_distance are sensitive to approximately the same information (which is as advertised), and partial_ratio doesn't buy you much else. Moreover, in this sample, we could have caught cheaters by looking for unusual codes and slashes."
   ]
  }
 ],
 "metadata": {
  "kernelspec": {
   "display_name": "Python 3",
   "language": "python",
   "name": "python3"
  },
  "language_info": {
   "codemirror_mode": {
    "name": "ipython",
    "version": 3
   },
   "file_extension": ".py",
   "mimetype": "text/x-python",
   "name": "python",
   "nbconvert_exporter": "python",
   "pygments_lexer": "ipython3",
   "version": "3.4.3"
  }
 },
 "nbformat": 4,
 "nbformat_minor": 0
}
